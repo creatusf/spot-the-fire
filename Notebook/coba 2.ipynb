{
 "cells": [
  {
   "cell_type": "code",
   "execution_count": 3,
   "metadata": {},
   "outputs": [],
   "source": [
    "import pandas as pd\n",
    "import numpy as np\n",
    "import os\n",
    "import random\n",
    "import tensorflow as tf\n",
    "import cv2\n",
    "from tqdm import tqdm\n",
    "import datetime\n",
    "from tensorflow import keras\n",
    "from tensorflow.keras.layers import Conv2D, MaxPooling2D, UpSampling2D, Concatenate \n",
    "from tensorflow.keras.layers import Input, Add, Conv2DTranspose\n",
    "from tensorflow.keras.models import Sequential, Model\n",
    "from tensorflow.keras.applications import VGG16\n",
    "from tensorflow.keras.optimizers import SGD, Adam\n",
    "from tensorflow.keras.losses import SparseCategoricalCrossentropy, MeanSquaredError, BinaryCrossentropy\n",
    "from tensorflow.keras.utils import plot_model\n",
    "from tensorflow.keras import callbacks\n",
    "\n",
    "from  matplotlib import pyplot as plt\n",
    "import matplotlib.image as mpimg\n",
    "from IPython.display import clear_output\n",
    "%matplotlib inline\n",
    "\n",
    "from IPython.display import HTML\n",
    "from base64 import b64encode\n",
    "\n",
    "import os\n",
    "from PIL import Image"
   ]
  },
  {
   "attachments": {},
   "cell_type": "markdown",
   "metadata": {},
   "source": [
    "steps:\n",
    "- read images from paths\n",
    "- build architecture of unet (https://www.kaggle.com/code/utkarshsaxenadn/breast-cancer-image-segmentation-attention-unet#Encoder)\n",
    "- compile model, summarize, make sure doesn't exceed 2m params\n",
    "- loss = meaniou\n",
    "- predict"
   ]
  },
  {
   "attachments": {},
   "cell_type": "markdown",
   "metadata": {},
   "source": [
    "# |Read"
   ]
  },
  {
   "cell_type": "code",
   "execution_count": 4,
   "metadata": {},
   "outputs": [],
   "source": [
    "test_img_path = '../Fire_Dataset/test/image/'+'fire/'\n",
    "test_mask_path = '../Fire_Dataset/test/mask/' + 'fire/'\n",
    "train_img_path = '../Fire_Dataset/train/image/' + 'fire/'\n",
    "train_mask_path = '../Fire_Dataset/train/mask/'+ 'fire/'\n",
    "validation_img_path = '../Fire_Dataset/validation/image/'+ 'fire/'\n",
    "validation_mask_path = '../Fire_Dataset/validation/mask/'+ 'fire/'"
   ]
  },
  {
   "cell_type": "code",
   "execution_count": 5,
   "metadata": {},
   "outputs": [],
   "source": [
    "def read_image(folder_path):\n",
    "   \n",
    "    def load_image(filename, shape):\n",
    "        image = tf.keras.preprocessing.image.load_img(filename, target_size=(128,128))\n",
    "        image = tf.keras.preprocessing.image.img_to_array(image)\n",
    "        # image = cv2.imread(filename)\n",
    "        # image = cv2.cvtColor(image, cv2.COLOR_BGR2RGB)\n",
    "        return image / 255.0  # normalize pixel values to range [0, 1]\n",
    "\n",
    "    images = np.array([load_image(os.path.join(folder_path, filename), (128,128)) for filename in os.listdir(folder_path)])\n",
    "            \n",
    "    return images"
   ]
  },
  {
   "cell_type": "code",
   "execution_count": 6,
   "metadata": {},
   "outputs": [],
   "source": [
    "train_images = read_image(train_img_path)\n",
    "train_masks = read_image(train_mask_path)\n"
   ]
  },
  {
   "cell_type": "code",
   "execution_count": 7,
   "metadata": {},
   "outputs": [],
   "source": [
    "validation_images = read_image(validation_img_path)\n",
    "validation_masks = read_image(validation_mask_path)\n",
    "\n"
   ]
  },
  {
   "cell_type": "code",
   "execution_count": 8,
   "metadata": {},
   "outputs": [],
   "source": [
    "test_images = read_image(test_img_path)\n",
    "test_masks = read_image(test_mask_path)"
   ]
  },
  {
   "cell_type": "code",
   "execution_count": 9,
   "metadata": {},
   "outputs": [],
   "source": [
    "from tensorflow.keras.preprocessing.image import ImageDataGenerator\n",
    "\n",
    "def get_datagen(img_path, mask_path):\n",
    "        seed = 909 # (IMPORTANT) to transform image and corresponding mask with same augmentation parameter.\n",
    "        image_datagen = ImageDataGenerator(width_shift_range=0.1,\n",
    "                        height_shift_range=0.1,) # custom fuction for each image you can use resnet one too.\n",
    "\n",
    "        mask_datagen = ImageDataGenerator(width_shift_range=0.1,\n",
    "                        height_shift_range=0.1,)  # to make mask as feedable formate (256,256,1)\n",
    "\n",
    "\n",
    "        train_img =image_datagen.flow_from_directory(img_path,\n",
    "                                                            class_mode=None, seed=seed)\n",
    "\n",
    "        train_mask = mask_datagen.flow_from_directory(mask_path,\n",
    "                                                        class_mode=None, seed=seed)\n",
    "\n",
    "        return zip(train_img, train_mask)"
   ]
  },
  {
   "cell_type": "code",
   "execution_count": 23,
   "metadata": {},
   "outputs": [
    {
     "name": "stdout",
     "output_type": "stream",
     "text": [
      "Found 24925 images belonging to 1 classes.\n",
      "Found 24925 images belonging to 1 classes.\n",
      "Found 8307 images belonging to 1 classes.\n",
      "Found 8307 images belonging to 1 classes.\n",
      "Found 8304 images belonging to 1 classes.\n",
      "Found 8304 images belonging to 1 classes.\n"
     ]
    }
   ],
   "source": [
    "# train =get_datagen(train_img_path, train_mask_path)\n",
    "# validation =get_datagen(validation_img_path, validation_mask_path)\n",
    "# test =get_datagen(test_img_path, test_mask_path)\n",
    "\n"
   ]
  },
  {
   "attachments": {},
   "cell_type": "markdown",
   "metadata": {},
   "source": [
    "# Constructing Unet"
   ]
  },
  {
   "cell_type": "code",
   "execution_count": 10,
   "metadata": {},
   "outputs": [],
   "source": [
    "# common\n",
    "import os\n",
    "import keras\n",
    "import numpy as np\n",
    "import pandas as pd\n",
    "from glob import glob\n",
    "import tensorflow as tf\n",
    "\n",
    "# Data\n",
    "from tensorflow.keras.utils import to_categorical\n",
    "\n",
    "# Data Viz\n",
    "import matplotlib.pyplot as plt\n",
    "\n",
    "# Model \n",
    "from keras.models import Model\n",
    "from keras.layers import Layer\n",
    "from keras.layers import Conv2D\n",
    "from keras.layers import Dropout\n",
    "from keras.layers import UpSampling2D\n",
    "from keras.layers import concatenate\n",
    "from keras.layers import Add\n",
    "from keras.layers import Multiply\n",
    "from keras.layers import Input\n",
    "from keras.layers import MaxPool2D\n",
    "from keras.layers import BatchNormalization\n",
    "\n",
    "# Callbacks \n",
    "from keras.callbacks import Callback\n",
    "from keras.callbacks import EarlyStopping\n",
    "from keras.callbacks import ModelCheckpoint\n",
    "\n",
    "# Metrics\n",
    "from keras.metrics import MeanIoU"
   ]
  },
  {
   "cell_type": "code",
   "execution_count": 11,
   "metadata": {},
   "outputs": [],
   "source": [
    "class EncoderBlock(Layer):\n",
    "\n",
    "    def __init__(self, filters, rate, pooling=True, **kwargs):\n",
    "        super(EncoderBlock, self).__init__(**kwargs)\n",
    "\n",
    "        self.filters = filters\n",
    "        self.rate = rate\n",
    "        self.pooling = pooling\n",
    "\n",
    "        self.c1 = Conv2D(filters, kernel_size=3, strides=1, padding='same', activation='relu', kernel_initializer='he_normal')\n",
    "        self.drop = Dropout(rate)\n",
    "        self.c2 = Conv2D(filters, kernel_size=3, strides=1, padding='same', activation='relu', kernel_initializer='he_normal')\n",
    "        self.pool = MaxPool2D()\n",
    "\n",
    "    def call(self, X):\n",
    "        x = self.c1(X)\n",
    "        x = self.drop(x)\n",
    "        x = self.c2(x)\n",
    "        if self.pooling:\n",
    "            y = self.pool(x)\n",
    "            return y, x\n",
    "        else:\n",
    "            return x\n",
    "\n",
    "    def get_config(self):\n",
    "        base_config = super().get_config()\n",
    "        return {\n",
    "            **base_config,\n",
    "            \"filters\":self.filters,\n",
    "            'rate':self.rate,\n",
    "            'pooling':self.pooling\n",
    "        }"
   ]
  },
  {
   "cell_type": "code",
   "execution_count": 12,
   "metadata": {},
   "outputs": [],
   "source": [
    "class DecoderBlock(Layer):\n",
    "\n",
    "    def __init__(self, filters, rate, **kwargs):\n",
    "        super(DecoderBlock, self).__init__(**kwargs)\n",
    "\n",
    "        self.filters = filters\n",
    "        self.rate = rate\n",
    "\n",
    "        self.up = UpSampling2D()\n",
    "        self.net = EncoderBlock(filters, rate, pooling=False)\n",
    "\n",
    "    def call(self, X):\n",
    "        X, skip_X = X\n",
    "        x = self.up(X)\n",
    "        c_ = concatenate([x, skip_X])\n",
    "        x = self.net(c_)\n",
    "        return x\n",
    "\n",
    "    def get_config(self):\n",
    "        base_config = super().get_config()\n",
    "        return {\n",
    "            **base_config,\n",
    "            \"filters\":self.filters,\n",
    "            'rate':self.rate,\n",
    "        }"
   ]
  },
  {
   "cell_type": "code",
   "execution_count": 13,
   "metadata": {},
   "outputs": [],
   "source": [
    "class AttentionGate(Layer):\n",
    "\n",
    "    def __init__(self, filters, bn, **kwargs):\n",
    "        super(AttentionGate, self).__init__(**kwargs)\n",
    "\n",
    "        self.filters = filters\n",
    "        self.bn = bn\n",
    "\n",
    "        self.normal = Conv2D(filters, kernel_size=3, padding='same', activation='relu', kernel_initializer='he_normal')\n",
    "        self.down = Conv2D(filters, kernel_size=3, strides=2, padding='same', activation='relu', kernel_initializer='he_normal')\n",
    "        self.learn = Conv2D(1, kernel_size=1, padding='same', activation='sigmoid')\n",
    "        self.resample = UpSampling2D()\n",
    "        self.BN = BatchNormalization()\n",
    "\n",
    "    def call(self, X):\n",
    "        X, skip_X = X\n",
    "\n",
    "        x = self.normal(X)\n",
    "        skip = self.down(skip_X)\n",
    "        x = Add()([x, skip])\n",
    "        x = self.learn(x)\n",
    "        x = self.resample(x)\n",
    "        f = Multiply()([x, skip_X])\n",
    "        if self.bn:\n",
    "            return self.BN(f)\n",
    "        else:\n",
    "            return f\n",
    "        # return f\n",
    "\n",
    "    def get_config(self):\n",
    "        base_config = super().get_config()\n",
    "        return {\n",
    "            **base_config,\n",
    "            \"filters\":self.filters,\n",
    "            \"bn\":self.bn\n",
    "        }"
   ]
  },
  {
   "cell_type": "code",
   "execution_count": 14,
   "metadata": {},
   "outputs": [],
   "source": [
    "class ShowProgress(Callback):\n",
    "    def on_epoch_end(self, epochs, logs=None):\n",
    "        id = np.random.randint(200)\n",
    "        exp = GradCAM()\n",
    "        image = images[id]\n",
    "        mask = masks[id]\n",
    "        pred_mask = self.model.predict(image[np.newaxis,...])\n",
    "        cam = exp.explain(\n",
    "            validation_data=(image[np.newaxis,...], mask),\n",
    "            class_index=1,\n",
    "            layer_name='Attention4',\n",
    "            model=self.model\n",
    "        )\n",
    "\n",
    "        plt.figure(figsize=(10,5))\n",
    "\n",
    "        plt.subplot(1,3,1)\n",
    "        plt.title(\"Original Mask\")\n",
    "        show_mask(image, mask, cmap='copper')\n",
    "\n",
    "        plt.subplot(1,3,2)\n",
    "        plt.title(\"Predicted Mask\")\n",
    "        show_mask(image, pred_mask, cmap='copper')\n",
    "\n",
    "        plt.subplot(1,3,3)\n",
    "        show_image(cam,title=\"GradCAM\")\n",
    "\n",
    "        plt.tight_layout()\n",
    "        plt.show()"
   ]
  },
  {
   "cell_type": "code",
   "execution_count": 15,
   "metadata": {},
   "outputs": [
    {
     "ename": "NameError",
     "evalue": "name 'model' is not defined",
     "output_type": "error",
     "traceback": [
      "\u001b[1;31m---------------------------------------------------------------------------\u001b[0m",
      "\u001b[1;31mNameError\u001b[0m                                 Traceback (most recent call last)",
      "\u001b[1;32mc:\\Users\\Sistem Cerdas Two\\Downloads\\Latte Catto\\FCN\\spot-the-fire\\Notebook\\coba 2.ipynb Cell 17\u001b[0m in \u001b[0;36m<cell line: 63>\u001b[1;34m()\u001b[0m\n\u001b[0;32m     <a href='vscode-notebook-cell:/c%3A/Users/Sistem%20Cerdas%20Two/Downloads/Latte%20Catto/FCN/spot-the-fire/Notebook/coba%202.ipynb#X21sZmlsZQ%3D%3D?line=59'>60</a>\u001b[0m encoder \u001b[39m=\u001b[39m encoder(inputs)\n\u001b[0;32m     <a href='vscode-notebook-cell:/c%3A/Users/Sistem%20Cerdas%20Two/Downloads/Latte%20Catto/FCN/spot-the-fire/Notebook/coba%202.ipynb#X21sZmlsZQ%3D%3D?line=60'>61</a>\u001b[0m outputs \u001b[39m=\u001b[39m decoder(encoder)\n\u001b[1;32m---> <a href='vscode-notebook-cell:/c%3A/Users/Sistem%20Cerdas%20Two/Downloads/Latte%20Catto/FCN/spot-the-fire/Notebook/coba%202.ipynb#X21sZmlsZQ%3D%3D?line=62'>63</a>\u001b[0m model\u001b[39m.\u001b[39mcompile(\n\u001b[0;32m     <a href='vscode-notebook-cell:/c%3A/Users/Sistem%20Cerdas%20Two/Downloads/Latte%20Catto/FCN/spot-the-fire/Notebook/coba%202.ipynb#X21sZmlsZQ%3D%3D?line=63'>64</a>\u001b[0m     loss\u001b[39m=\u001b[39m\u001b[39m'\u001b[39m\u001b[39mbinary_crossentropy\u001b[39m\u001b[39m'\u001b[39m,\n\u001b[0;32m     <a href='vscode-notebook-cell:/c%3A/Users/Sistem%20Cerdas%20Two/Downloads/Latte%20Catto/FCN/spot-the-fire/Notebook/coba%202.ipynb#X21sZmlsZQ%3D%3D?line=64'>65</a>\u001b[0m     optimizer\u001b[39m=\u001b[39m\u001b[39m'\u001b[39m\u001b[39madam\u001b[39m\u001b[39m'\u001b[39m,\n\u001b[0;32m     <a href='vscode-notebook-cell:/c%3A/Users/Sistem%20Cerdas%20Two/Downloads/Latte%20Catto/FCN/spot-the-fire/Notebook/coba%202.ipynb#X21sZmlsZQ%3D%3D?line=65'>66</a>\u001b[0m     metrics\u001b[39m=\u001b[39m[\u001b[39m'\u001b[39m\u001b[39maccuracy\u001b[39m\u001b[39m'\u001b[39m, MeanIoU(num_classes\u001b[39m=\u001b[39m\u001b[39m2\u001b[39m, name\u001b[39m=\u001b[39m\u001b[39m'\u001b[39m\u001b[39mIoU\u001b[39m\u001b[39m'\u001b[39m)]\n\u001b[0;32m     <a href='vscode-notebook-cell:/c%3A/Users/Sistem%20Cerdas%20Two/Downloads/Latte%20Catto/FCN/spot-the-fire/Notebook/coba%202.ipynb#X21sZmlsZQ%3D%3D?line=66'>67</a>\u001b[0m )\n\u001b[0;32m     <a href='vscode-notebook-cell:/c%3A/Users/Sistem%20Cerdas%20Two/Downloads/Latte%20Catto/FCN/spot-the-fire/Notebook/coba%202.ipynb#X21sZmlsZQ%3D%3D?line=68'>69</a>\u001b[0m \u001b[39m# Callbacks\u001b[39;00m\n\u001b[0;32m     <a href='vscode-notebook-cell:/c%3A/Users/Sistem%20Cerdas%20Two/Downloads/Latte%20Catto/FCN/spot-the-fire/Notebook/coba%202.ipynb#X21sZmlsZQ%3D%3D?line=69'>70</a>\u001b[0m cb \u001b[39m=\u001b[39m [\n\u001b[0;32m     <a href='vscode-notebook-cell:/c%3A/Users/Sistem%20Cerdas%20Two/Downloads/Latte%20Catto/FCN/spot-the-fire/Notebook/coba%202.ipynb#X21sZmlsZQ%3D%3D?line=70'>71</a>\u001b[0m     \u001b[39m# EarlyStopping(patience=3, restore_best_weight=True), # With Segmentation I trust on eyes rather than on metrics\u001b[39;00m\n\u001b[0;32m     <a href='vscode-notebook-cell:/c%3A/Users/Sistem%20Cerdas%20Two/Downloads/Latte%20Catto/FCN/spot-the-fire/Notebook/coba%202.ipynb#X21sZmlsZQ%3D%3D?line=71'>72</a>\u001b[0m     ModelCheckpoint(\u001b[39m\"\u001b[39m\u001b[39mAttentionCustomUNet.h5\u001b[39m\u001b[39m\"\u001b[39m, save_best_only\u001b[39m=\u001b[39m\u001b[39mTrue\u001b[39;00m),\n\u001b[0;32m     <a href='vscode-notebook-cell:/c%3A/Users/Sistem%20Cerdas%20Two/Downloads/Latte%20Catto/FCN/spot-the-fire/Notebook/coba%202.ipynb#X21sZmlsZQ%3D%3D?line=72'>73</a>\u001b[0m     \u001b[39m# ShowProgress()\u001b[39;00m\n\u001b[0;32m     <a href='vscode-notebook-cell:/c%3A/Users/Sistem%20Cerdas%20Two/Downloads/Latte%20Catto/FCN/spot-the-fire/Notebook/coba%202.ipynb#X21sZmlsZQ%3D%3D?line=73'>74</a>\u001b[0m ]\n",
      "\u001b[1;31mNameError\u001b[0m: name 'model' is not defined"
     ]
    }
   ],
   "source": [
    "def decoder(c6):\n",
    "    u7 = tf.keras.layers.Conv2DTranspose(64, (2, 2), strides=(2, 2), padding='same')(c6)\n",
    "    c7 = tf.keras.layers.Conv2D(64, (3, 3), activation='relu', kernel_initializer='he_normal', padding='same')(u7)\n",
    "    c7 = tf.keras.layers.Add()([u7, c7])\n",
    "\n",
    "    u8 = tf.keras.layers.Conv2DTranspose(32, (2, 2), strides=(2, 2), padding='same')(c7)\n",
    "    c8 = tf.keras.layers.Conv2D(32, (3, 3), activation='relu', kernel_initializer='he_normal', padding='same')(u8)\n",
    "    c8 = tf.keras.layers.Add()([u8, c8])\n",
    "\n",
    "    u9 = tf.keras.layers.Conv2DTranspose(16, (2, 2), strides=(2, 2), padding='same')(c8)\n",
    "    c9 = tf.keras.layers.Conv2D(16, (3, 3), activation='relu', kernel_initializer='he_normal', padding='same')(u9)\n",
    "    c9 = tf.keras.layers.Add()([u9, c9])\n",
    "\n",
    "    u10 = tf.keras.layers.Conv2DTranspose(16, (2, 2), strides=(2, 2), padding='same')(c9)\n",
    "    c10 = tf.keras.layers.Conv2D(16, (3, 3), activation='relu', kernel_initializer='he_normal', padding='same')(u10)\n",
    "    c10 = tf.keras.layers.Add()([u10, c10])\n",
    "\n",
    "    outputs = tf.keras.layers.Conv2D(3, (1, 1), activation='sigmoid')(c10)\n",
    "    return outputs\n",
    "\n",
    "def encoder(inputs):\n",
    "    c1 = tf.keras.layers.Conv2D(16, (3, 3), activation='relu', kernel_initializer='he_normal', padding='same')(inputs)\n",
    "    c1 = tf.keras.layers.Dropout(0.1)(c1)\n",
    "    c1 = tf.keras.layers.Conv2D(16, (3, 3), activation='relu', kernel_initializer='he_normal', padding='same')(c1)\n",
    "    p1 = tf.keras.layers.MaxPooling2D((2, 2))(c1)\n",
    "\n",
    "    c2 = tf.keras.layers.Conv2D(32, (3, 3), activation='relu', kernel_initializer='he_normal', padding='same')(p1)\n",
    "    c2 = tf.keras.layers.Dropout(0.1)(c2)\n",
    "    c2 = tf.keras.layers.Conv2D(32, (3, 3), activation='relu', kernel_initializer='he_normal', padding='same')(c2)\n",
    "    p2 = tf.keras.layers.MaxPooling2D((2, 2))(c2)\n",
    "\n",
    "    c3 = tf.keras.layers.Conv2D(64, (3, 3), activation='relu', kernel_initializer='he_normal', padding='same')(p2)\n",
    "    c3 = tf.keras.layers.Dropout(0.2)(c3)\n",
    "    c3 = tf.keras.layers.Conv2D(64, (3, 3), activation='relu', kernel_initializer='he_normal', padding='same')(c3)\n",
    "    p3 = tf.keras.layers.MaxPooling2D((2, 2))(c3)\n",
    "\n",
    "    c4 = tf.keras.layers.Conv2D(128, (3, 3), activation='relu', kernel_initializer='he_normal', padding='same')(p3)\n",
    "    c4 = tf.keras.layers.Dropout(0.2)(c4)\n",
    "    c4 = tf.keras.layers.Conv2D(128, (3, 3), activation='relu', kernel_initializer='he_normal', padding='same')(c4)\n",
    "    p4 = tf.keras.layers.MaxPooling2D(pool_size=(2, 2))(c4)\n",
    "\n",
    "    c5 = tf.keras.layers.Conv2D(128, (3, 3), activation='relu', kernel_initializer='he_normal', padding='same')(p4)\n",
    "    c5 = tf.keras.layers.Dropout(0.2)(c5)\n",
    "    c5 = tf.keras.layers.Conv2D(128, (3, 3), activation='relu', kernel_initializer='he_normal', padding='same')(c5)\n",
    "    p5 = tf.keras.layers.MaxPooling2D(pool_size=(2, 2))(c5)\n",
    "\n",
    "    c6 = tf.keras.layers.Conv2D(256, (3, 3), activation='relu', kernel_initializer='he_normal', padding='same')(p5)\n",
    "    c6 = tf.keras.layers.Dropout(0.3)(c6)\n",
    "    c6 = tf.keras.layers.Conv2D(256, (3, 3), activation='relu', kernel_initializer='he_normal', padding='same')(c6)\n",
    "\n",
    "    u6 = tf.keras.layers.Conv2DTranspose(128, (2, 2), strides=(2, 2), padding='same')(c6)\n",
    "    c6 = tf.keras.layers.Conv2D(128, (3, 3), activation='relu', kernel_initializer='he_normal', padding='same')(u6)\n",
    "    c6 = tf.keras.layers.Dropout(0.2)(c6)\n",
    "    c6 = tf.keras.layers.Conv2D(128, (3, 3), activation='relu', kernel_initializer='he_normal', padding='same')(c6)\n",
    "    return c6\n",
    "\n",
    "\n",
    "inputs = tf.keras.layers.Input(shape=(None, None, 3))\n",
    "\n",
    "encoder = encoder(inputs)\n",
    "outputs = decoder(encoder)\n",
    "\n",
    "model.compile(\n",
    "    loss='binary_crossentropy',\n",
    "    optimizer='adam',\n",
    "    metrics=['accuracy', MeanIoU(num_classes=2, name='IoU')]\n",
    ")\n",
    "\n",
    "# Callbacks\n",
    "cb = [\n",
    "    # EarlyStopping(patience=3, restore_best_weight=True), # With Segmentation I trust on eyes rather than on metrics\n",
    "    ModelCheckpoint(\"AttentionCustomUNet.h5\", save_best_only=True),\n",
    "    # ShowProgress()\n",
    "]"
   ]
  },
  {
   "attachments": {},
   "cell_type": "markdown",
   "metadata": {},
   "source": [
    "# Training"
   ]
  },
  {
   "cell_type": "code",
   "execution_count": 33,
   "metadata": {},
   "outputs": [
    {
     "name": "stderr",
     "output_type": "stream",
     "text": [
      "C:\\Users\\Sistem Cerdas Two\\AppData\\Local\\Temp\\ipykernel_7012\\821797379.py:6: UserWarning: `Model.fit_generator` is deprecated and will be removed in a future version. Please use `Model.fit`, which supports generators.\n",
      "  results = model.fit_generator(\n"
     ]
    },
    {
     "name": "stdout",
     "output_type": "stream",
     "text": [
      "Epoch 1/20\n"
     ]
    },
    {
     "ename": "InvalidArgumentError",
     "evalue": "Graph execution error:\n\nDetected at node 'model/Attention1/multiply/mul' defined at (most recent call last):\n    File \"c:\\Users\\Sistem Cerdas Two\\anaconda3\\lib\\runpy.py\", line 197, in _run_module_as_main\n      return _run_code(code, main_globals, None,\n    File \"c:\\Users\\Sistem Cerdas Two\\anaconda3\\lib\\runpy.py\", line 87, in _run_code\n      exec(code, run_globals)\n    File \"c:\\Users\\Sistem Cerdas Two\\anaconda3\\lib\\site-packages\\ipykernel_launcher.py\", line 16, in <module>\n      app.launch_new_instance()\n    File \"c:\\Users\\Sistem Cerdas Two\\anaconda3\\lib\\site-packages\\traitlets\\config\\application.py\", line 846, in launch_instance\n      app.start()\n    File \"c:\\Users\\Sistem Cerdas Two\\anaconda3\\lib\\site-packages\\ipykernel\\kernelapp.py\", line 677, in start\n      self.io_loop.start()\n    File \"c:\\Users\\Sistem Cerdas Two\\anaconda3\\lib\\site-packages\\tornado\\platform\\asyncio.py\", line 199, in start\n      self.asyncio_loop.run_forever()\n    File \"c:\\Users\\Sistem Cerdas Two\\anaconda3\\lib\\asyncio\\base_events.py\", line 601, in run_forever\n      self._run_once()\n    File \"c:\\Users\\Sistem Cerdas Two\\anaconda3\\lib\\asyncio\\base_events.py\", line 1905, in _run_once\n      handle._run()\n    File \"c:\\Users\\Sistem Cerdas Two\\anaconda3\\lib\\asyncio\\events.py\", line 80, in _run\n      self._context.run(self._callback, *self._args)\n    File \"c:\\Users\\Sistem Cerdas Two\\anaconda3\\lib\\site-packages\\ipykernel\\kernelbase.py\", line 471, in dispatch_queue\n      await self.process_one()\n    File \"c:\\Users\\Sistem Cerdas Two\\anaconda3\\lib\\site-packages\\ipykernel\\kernelbase.py\", line 460, in process_one\n      await dispatch(*args)\n    File \"c:\\Users\\Sistem Cerdas Two\\anaconda3\\lib\\site-packages\\ipykernel\\kernelbase.py\", line 367, in dispatch_shell\n      await result\n    File \"c:\\Users\\Sistem Cerdas Two\\anaconda3\\lib\\site-packages\\ipykernel\\kernelbase.py\", line 662, in execute_request\n      reply_content = await reply_content\n    File \"c:\\Users\\Sistem Cerdas Two\\anaconda3\\lib\\site-packages\\ipykernel\\ipkernel.py\", line 360, in do_execute\n      res = shell.run_cell(code, store_history=store_history, silent=silent)\n    File \"c:\\Users\\Sistem Cerdas Two\\anaconda3\\lib\\site-packages\\ipykernel\\zmqshell.py\", line 532, in run_cell\n      return super().run_cell(*args, **kwargs)\n    File \"c:\\Users\\Sistem Cerdas Two\\anaconda3\\lib\\site-packages\\IPython\\core\\interactiveshell.py\", line 2863, in run_cell\n      result = self._run_cell(\n    File \"c:\\Users\\Sistem Cerdas Two\\anaconda3\\lib\\site-packages\\IPython\\core\\interactiveshell.py\", line 2909, in _run_cell\n      return runner(coro)\n    File \"c:\\Users\\Sistem Cerdas Two\\anaconda3\\lib\\site-packages\\IPython\\core\\async_helpers.py\", line 129, in _pseudo_sync_runner\n      coro.send(None)\n    File \"c:\\Users\\Sistem Cerdas Two\\anaconda3\\lib\\site-packages\\IPython\\core\\interactiveshell.py\", line 3106, in run_cell_async\n      has_raised = await self.run_ast_nodes(code_ast.body, cell_name,\n    File \"c:\\Users\\Sistem Cerdas Two\\anaconda3\\lib\\site-packages\\IPython\\core\\interactiveshell.py\", line 3309, in run_ast_nodes\n      if await self.run_code(code, result, async_=asy):\n    File \"c:\\Users\\Sistem Cerdas Two\\anaconda3\\lib\\site-packages\\IPython\\core\\interactiveshell.py\", line 3369, in run_code\n      exec(code_obj, self.user_global_ns, self.user_ns)\n    File \"C:\\Users\\Sistem Cerdas Two\\AppData\\Local\\Temp\\ipykernel_7012\\974670986.py\", line 6, in <cell line: 6>\n      results = model.fit(\n    File \"c:\\Users\\Sistem Cerdas Two\\anaconda3\\lib\\site-packages\\keras\\utils\\traceback_utils.py\", line 65, in error_handler\n      return fn(*args, **kwargs)\n    File \"c:\\Users\\Sistem Cerdas Two\\anaconda3\\lib\\site-packages\\keras\\engine\\training.py\", line 1564, in fit\n      tmp_logs = self.train_function(iterator)\n    File \"c:\\Users\\Sistem Cerdas Two\\anaconda3\\lib\\site-packages\\keras\\engine\\training.py\", line 1160, in train_function\n      return step_function(self, iterator)\n    File \"c:\\Users\\Sistem Cerdas Two\\anaconda3\\lib\\site-packages\\keras\\engine\\training.py\", line 1146, in step_function\n      outputs = model.distribute_strategy.run(run_step, args=(data,))\n    File \"c:\\Users\\Sistem Cerdas Two\\anaconda3\\lib\\site-packages\\keras\\engine\\training.py\", line 1135, in run_step\n      outputs = model.train_step(data)\n    File \"c:\\Users\\Sistem Cerdas Two\\anaconda3\\lib\\site-packages\\keras\\engine\\training.py\", line 993, in train_step\n      y_pred = self(x, training=True)\n    File \"c:\\Users\\Sistem Cerdas Two\\anaconda3\\lib\\site-packages\\keras\\utils\\traceback_utils.py\", line 65, in error_handler\n      return fn(*args, **kwargs)\n    File \"c:\\Users\\Sistem Cerdas Two\\anaconda3\\lib\\site-packages\\keras\\engine\\training.py\", line 557, in __call__\n      return super().__call__(*args, **kwargs)\n    File \"c:\\Users\\Sistem Cerdas Two\\anaconda3\\lib\\site-packages\\keras\\utils\\traceback_utils.py\", line 65, in error_handler\n      return fn(*args, **kwargs)\n    File \"c:\\Users\\Sistem Cerdas Two\\anaconda3\\lib\\site-packages\\keras\\engine\\base_layer.py\", line 1097, in __call__\n      outputs = call_fn(inputs, *args, **kwargs)\n    File \"c:\\Users\\Sistem Cerdas Two\\anaconda3\\lib\\site-packages\\keras\\utils\\traceback_utils.py\", line 96, in error_handler\n      return fn(*args, **kwargs)\n    File \"c:\\Users\\Sistem Cerdas Two\\anaconda3\\lib\\site-packages\\keras\\engine\\functional.py\", line 510, in call\n      return self._run_internal_graph(inputs, training=training, mask=mask)\n    File \"c:\\Users\\Sistem Cerdas Two\\anaconda3\\lib\\site-packages\\keras\\engine\\functional.py\", line 667, in _run_internal_graph\n      outputs = node.layer(*args, **kwargs)\n    File \"c:\\Users\\Sistem Cerdas Two\\anaconda3\\lib\\site-packages\\keras\\utils\\traceback_utils.py\", line 65, in error_handler\n      return fn(*args, **kwargs)\n    File \"c:\\Users\\Sistem Cerdas Two\\anaconda3\\lib\\site-packages\\keras\\engine\\base_layer.py\", line 1097, in __call__\n      outputs = call_fn(inputs, *args, **kwargs)\n    File \"c:\\Users\\Sistem Cerdas Two\\anaconda3\\lib\\site-packages\\keras\\utils\\traceback_utils.py\", line 96, in error_handler\n      return fn(*args, **kwargs)\n    File \"C:\\Users\\Sistem Cerdas Two\\AppData\\Local\\Temp\\ipykernel_7012\\554259654.py\", line 23, in call\n      f = Multiply()([x, skip_X])\n    File \"c:\\Users\\Sistem Cerdas Two\\anaconda3\\lib\\site-packages\\keras\\utils\\traceback_utils.py\", line 65, in error_handler\n      return fn(*args, **kwargs)\n    File \"c:\\Users\\Sistem Cerdas Two\\anaconda3\\lib\\site-packages\\keras\\engine\\base_layer.py\", line 1097, in __call__\n      outputs = call_fn(inputs, *args, **kwargs)\n    File \"c:\\Users\\Sistem Cerdas Two\\anaconda3\\lib\\site-packages\\keras\\utils\\traceback_utils.py\", line 96, in error_handler\n      return fn(*args, **kwargs)\n    File \"c:\\Users\\Sistem Cerdas Two\\anaconda3\\lib\\site-packages\\keras\\layers\\merging\\base_merge.py\", line 196, in call\n      return self._merge_function(inputs)\n    File \"c:\\Users\\Sistem Cerdas Two\\anaconda3\\lib\\site-packages\\keras\\layers\\merging\\multiply.py\", line 50, in _merge_function\n      output = output * inputs[i]\nNode: 'model/Attention1/multiply/mul'\nDetected at node 'model/Attention1/multiply/mul' defined at (most recent call last):\n    File \"c:\\Users\\Sistem Cerdas Two\\anaconda3\\lib\\runpy.py\", line 197, in _run_module_as_main\n      return _run_code(code, main_globals, None,\n    File \"c:\\Users\\Sistem Cerdas Two\\anaconda3\\lib\\runpy.py\", line 87, in _run_code\n      exec(code, run_globals)\n    File \"c:\\Users\\Sistem Cerdas Two\\anaconda3\\lib\\site-packages\\ipykernel_launcher.py\", line 16, in <module>\n      app.launch_new_instance()\n    File \"c:\\Users\\Sistem Cerdas Two\\anaconda3\\lib\\site-packages\\traitlets\\config\\application.py\", line 846, in launch_instance\n      app.start()\n    File \"c:\\Users\\Sistem Cerdas Two\\anaconda3\\lib\\site-packages\\ipykernel\\kernelapp.py\", line 677, in start\n      self.io_loop.start()\n    File \"c:\\Users\\Sistem Cerdas Two\\anaconda3\\lib\\site-packages\\tornado\\platform\\asyncio.py\", line 199, in start\n      self.asyncio_loop.run_forever()\n    File \"c:\\Users\\Sistem Cerdas Two\\anaconda3\\lib\\asyncio\\base_events.py\", line 601, in run_forever\n      self._run_once()\n    File \"c:\\Users\\Sistem Cerdas Two\\anaconda3\\lib\\asyncio\\base_events.py\", line 1905, in _run_once\n      handle._run()\n    File \"c:\\Users\\Sistem Cerdas Two\\anaconda3\\lib\\asyncio\\events.py\", line 80, in _run\n      self._context.run(self._callback, *self._args)\n    File \"c:\\Users\\Sistem Cerdas Two\\anaconda3\\lib\\site-packages\\ipykernel\\kernelbase.py\", line 471, in dispatch_queue\n      await self.process_one()\n    File \"c:\\Users\\Sistem Cerdas Two\\anaconda3\\lib\\site-packages\\ipykernel\\kernelbase.py\", line 460, in process_one\n      await dispatch(*args)\n    File \"c:\\Users\\Sistem Cerdas Two\\anaconda3\\lib\\site-packages\\ipykernel\\kernelbase.py\", line 367, in dispatch_shell\n      await result\n    File \"c:\\Users\\Sistem Cerdas Two\\anaconda3\\lib\\site-packages\\ipykernel\\kernelbase.py\", line 662, in execute_request\n      reply_content = await reply_content\n    File \"c:\\Users\\Sistem Cerdas Two\\anaconda3\\lib\\site-packages\\ipykernel\\ipkernel.py\", line 360, in do_execute\n      res = shell.run_cell(code, store_history=store_history, silent=silent)\n    File \"c:\\Users\\Sistem Cerdas Two\\anaconda3\\lib\\site-packages\\ipykernel\\zmqshell.py\", line 532, in run_cell\n      return super().run_cell(*args, **kwargs)\n    File \"c:\\Users\\Sistem Cerdas Two\\anaconda3\\lib\\site-packages\\IPython\\core\\interactiveshell.py\", line 2863, in run_cell\n      result = self._run_cell(\n    File \"c:\\Users\\Sistem Cerdas Two\\anaconda3\\lib\\site-packages\\IPython\\core\\interactiveshell.py\", line 2909, in _run_cell\n      return runner(coro)\n    File \"c:\\Users\\Sistem Cerdas Two\\anaconda3\\lib\\site-packages\\IPython\\core\\async_helpers.py\", line 129, in _pseudo_sync_runner\n      coro.send(None)\n    File \"c:\\Users\\Sistem Cerdas Two\\anaconda3\\lib\\site-packages\\IPython\\core\\interactiveshell.py\", line 3106, in run_cell_async\n      has_raised = await self.run_ast_nodes(code_ast.body, cell_name,\n    File \"c:\\Users\\Sistem Cerdas Two\\anaconda3\\lib\\site-packages\\IPython\\core\\interactiveshell.py\", line 3309, in run_ast_nodes\n      if await self.run_code(code, result, async_=asy):\n    File \"c:\\Users\\Sistem Cerdas Two\\anaconda3\\lib\\site-packages\\IPython\\core\\interactiveshell.py\", line 3369, in run_code\n      exec(code_obj, self.user_global_ns, self.user_ns)\n    File \"C:\\Users\\Sistem Cerdas Two\\AppData\\Local\\Temp\\ipykernel_7012\\974670986.py\", line 6, in <cell line: 6>\n      results = model.fit(\n    File \"c:\\Users\\Sistem Cerdas Two\\anaconda3\\lib\\site-packages\\keras\\utils\\traceback_utils.py\", line 65, in error_handler\n      return fn(*args, **kwargs)\n    File \"c:\\Users\\Sistem Cerdas Two\\anaconda3\\lib\\site-packages\\keras\\engine\\training.py\", line 1564, in fit\n      tmp_logs = self.train_function(iterator)\n    File \"c:\\Users\\Sistem Cerdas Two\\anaconda3\\lib\\site-packages\\keras\\engine\\training.py\", line 1160, in train_function\n      return step_function(self, iterator)\n    File \"c:\\Users\\Sistem Cerdas Two\\anaconda3\\lib\\site-packages\\keras\\engine\\training.py\", line 1146, in step_function\n      outputs = model.distribute_strategy.run(run_step, args=(data,))\n    File \"c:\\Users\\Sistem Cerdas Two\\anaconda3\\lib\\site-packages\\keras\\engine\\training.py\", line 1135, in run_step\n      outputs = model.train_step(data)\n    File \"c:\\Users\\Sistem Cerdas Two\\anaconda3\\lib\\site-packages\\keras\\engine\\training.py\", line 993, in train_step\n      y_pred = self(x, training=True)\n    File \"c:\\Users\\Sistem Cerdas Two\\anaconda3\\lib\\site-packages\\keras\\utils\\traceback_utils.py\", line 65, in error_handler\n      return fn(*args, **kwargs)\n    File \"c:\\Users\\Sistem Cerdas Two\\anaconda3\\lib\\site-packages\\keras\\engine\\training.py\", line 557, in __call__\n      return super().__call__(*args, **kwargs)\n    File \"c:\\Users\\Sistem Cerdas Two\\anaconda3\\lib\\site-packages\\keras\\utils\\traceback_utils.py\", line 65, in error_handler\n      return fn(*args, **kwargs)\n    File \"c:\\Users\\Sistem Cerdas Two\\anaconda3\\lib\\site-packages\\keras\\engine\\base_layer.py\", line 1097, in __call__\n      outputs = call_fn(inputs, *args, **kwargs)\n    File \"c:\\Users\\Sistem Cerdas Two\\anaconda3\\lib\\site-packages\\keras\\utils\\traceback_utils.py\", line 96, in error_handler\n      return fn(*args, **kwargs)\n    File \"c:\\Users\\Sistem Cerdas Two\\anaconda3\\lib\\site-packages\\keras\\engine\\functional.py\", line 510, in call\n      return self._run_internal_graph(inputs, training=training, mask=mask)\n    File \"c:\\Users\\Sistem Cerdas Two\\anaconda3\\lib\\site-packages\\keras\\engine\\functional.py\", line 667, in _run_internal_graph\n      outputs = node.layer(*args, **kwargs)\n    File \"c:\\Users\\Sistem Cerdas Two\\anaconda3\\lib\\site-packages\\keras\\utils\\traceback_utils.py\", line 65, in error_handler\n      return fn(*args, **kwargs)\n    File \"c:\\Users\\Sistem Cerdas Two\\anaconda3\\lib\\site-packages\\keras\\engine\\base_layer.py\", line 1097, in __call__\n      outputs = call_fn(inputs, *args, **kwargs)\n    File \"c:\\Users\\Sistem Cerdas Two\\anaconda3\\lib\\site-packages\\keras\\utils\\traceback_utils.py\", line 96, in error_handler\n      return fn(*args, **kwargs)\n    File \"C:\\Users\\Sistem Cerdas Two\\AppData\\Local\\Temp\\ipykernel_7012\\554259654.py\", line 23, in call\n      f = Multiply()([x, skip_X])\n    File \"c:\\Users\\Sistem Cerdas Two\\anaconda3\\lib\\site-packages\\keras\\utils\\traceback_utils.py\", line 65, in error_handler\n      return fn(*args, **kwargs)\n    File \"c:\\Users\\Sistem Cerdas Two\\anaconda3\\lib\\site-packages\\keras\\engine\\base_layer.py\", line 1097, in __call__\n      outputs = call_fn(inputs, *args, **kwargs)\n    File \"c:\\Users\\Sistem Cerdas Two\\anaconda3\\lib\\site-packages\\keras\\utils\\traceback_utils.py\", line 96, in error_handler\n      return fn(*args, **kwargs)\n    File \"c:\\Users\\Sistem Cerdas Two\\anaconda3\\lib\\site-packages\\keras\\layers\\merging\\base_merge.py\", line 196, in call\n      return self._merge_function(inputs)\n    File \"c:\\Users\\Sistem Cerdas Two\\anaconda3\\lib\\site-packages\\keras\\layers\\merging\\multiply.py\", line 50, in _merge_function\n      output = output * inputs[i]\nNode: 'model/Attention1/multiply/mul'\n2 root error(s) found.\n  (0) INVALID_ARGUMENT:  required broadcastable shapes\n\t [[{{node model/Attention1/multiply/mul}}]]\n\t [[confusion_matrix/assert_non_negative/assert_less_equal/Assert/AssertGuard/pivot_f/_3/_17]]\n  (1) INVALID_ARGUMENT:  required broadcastable shapes\n\t [[{{node model/Attention1/multiply/mul}}]]\n0 successful operations.\n0 derived errors ignored. [Op:__inference_train_function_9806]",
     "output_type": "error",
     "traceback": [
      "\u001b[1;31m---------------------------------------------------------------------------\u001b[0m",
      "\u001b[1;31mInvalidArgumentError\u001b[0m                      Traceback (most recent call last)",
      "\u001b[1;32mc:\\Users\\Sistem Cerdas Two\\Downloads\\Latte Catto\\FCN\\spot-the-fire\\Notebook\\coba 2.ipynb Cell 15\u001b[0m in \u001b[0;36m<cell line: 6>\u001b[1;34m()\u001b[0m\n\u001b[0;32m      <a href='vscode-notebook-cell:/c%3A/Users/Sistem%20Cerdas%20Two/Downloads/Latte%20Catto/FCN/spot-the-fire/Notebook/coba%202.ipynb#X22sZmlsZQ%3D%3D?line=2'>3</a>\u001b[0m SPE \u001b[39m=\u001b[39m \u001b[39m24925\u001b[39m \u001b[39m/\u001b[39m\u001b[39m/\u001b[39mBATCH_SIZE\n\u001b[0;32m      <a href='vscode-notebook-cell:/c%3A/Users/Sistem%20Cerdas%20Two/Downloads/Latte%20Catto/FCN/spot-the-fire/Notebook/coba%202.ipynb#X22sZmlsZQ%3D%3D?line=4'>5</a>\u001b[0m \u001b[39m# Training\u001b[39;00m\n\u001b[1;32m----> <a href='vscode-notebook-cell:/c%3A/Users/Sistem%20Cerdas%20Two/Downloads/Latte%20Catto/FCN/spot-the-fire/Notebook/coba%202.ipynb#X22sZmlsZQ%3D%3D?line=5'>6</a>\u001b[0m results \u001b[39m=\u001b[39m model\u001b[39m.\u001b[39;49mfit_generator(\n\u001b[0;32m      <a href='vscode-notebook-cell:/c%3A/Users/Sistem%20Cerdas%20Two/Downloads/Latte%20Catto/FCN/spot-the-fire/Notebook/coba%202.ipynb#X22sZmlsZQ%3D%3D?line=6'>7</a>\u001b[0m     train,\n\u001b[0;32m      <a href='vscode-notebook-cell:/c%3A/Users/Sistem%20Cerdas%20Two/Downloads/Latte%20Catto/FCN/spot-the-fire/Notebook/coba%202.ipynb#X22sZmlsZQ%3D%3D?line=7'>8</a>\u001b[0m     validation_data\u001b[39m=\u001b[39;49mvalidation,\n\u001b[0;32m      <a href='vscode-notebook-cell:/c%3A/Users/Sistem%20Cerdas%20Two/Downloads/Latte%20Catto/FCN/spot-the-fire/Notebook/coba%202.ipynb#X22sZmlsZQ%3D%3D?line=8'>9</a>\u001b[0m     epochs\u001b[39m=\u001b[39;49m\u001b[39m20\u001b[39;49m, \u001b[39m# 15 will be enough for a good Model for better model go with 20+\u001b[39;49;00m\n\u001b[0;32m     <a href='vscode-notebook-cell:/c%3A/Users/Sistem%20Cerdas%20Two/Downloads/Latte%20Catto/FCN/spot-the-fire/Notebook/coba%202.ipynb#X22sZmlsZQ%3D%3D?line=9'>10</a>\u001b[0m     steps_per_epoch\u001b[39m=\u001b[39;49mSPE,\n\u001b[0;32m     <a href='vscode-notebook-cell:/c%3A/Users/Sistem%20Cerdas%20Two/Downloads/Latte%20Catto/FCN/spot-the-fire/Notebook/coba%202.ipynb#X22sZmlsZQ%3D%3D?line=10'>11</a>\u001b[0m     callbacks\u001b[39m=\u001b[39;49mcb\n\u001b[0;32m     <a href='vscode-notebook-cell:/c%3A/Users/Sistem%20Cerdas%20Two/Downloads/Latte%20Catto/FCN/spot-the-fire/Notebook/coba%202.ipynb#X22sZmlsZQ%3D%3D?line=11'>12</a>\u001b[0m )\n",
      "File \u001b[1;32mc:\\Users\\Sistem Cerdas Two\\anaconda3\\lib\\site-packages\\keras\\engine\\training.py:2507\u001b[0m, in \u001b[0;36mModel.fit_generator\u001b[1;34m(self, generator, steps_per_epoch, epochs, verbose, callbacks, validation_data, validation_steps, validation_freq, class_weight, max_queue_size, workers, use_multiprocessing, shuffle, initial_epoch)\u001b[0m\n\u001b[0;32m   2495\u001b[0m \u001b[39m\"\"\"Fits the model on data yielded batch-by-batch by a Python generator.\u001b[39;00m\n\u001b[0;32m   2496\u001b[0m \n\u001b[0;32m   2497\u001b[0m \u001b[39mDEPRECATED:\u001b[39;00m\n\u001b[0;32m   2498\u001b[0m \u001b[39m  `Model.fit` now supports generators, so there is no longer any need to\u001b[39;00m\n\u001b[0;32m   2499\u001b[0m \u001b[39m  use this endpoint.\u001b[39;00m\n\u001b[0;32m   2500\u001b[0m \u001b[39m\"\"\"\u001b[39;00m\n\u001b[0;32m   2501\u001b[0m warnings\u001b[39m.\u001b[39mwarn(\n\u001b[0;32m   2502\u001b[0m     \u001b[39m\"\u001b[39m\u001b[39m`Model.fit_generator` is deprecated and \u001b[39m\u001b[39m\"\u001b[39m\n\u001b[0;32m   2503\u001b[0m     \u001b[39m\"\u001b[39m\u001b[39mwill be removed in a future version. \u001b[39m\u001b[39m\"\u001b[39m\n\u001b[0;32m   2504\u001b[0m     \u001b[39m\"\u001b[39m\u001b[39mPlease use `Model.fit`, which supports generators.\u001b[39m\u001b[39m\"\u001b[39m,\n\u001b[0;32m   2505\u001b[0m     stacklevel\u001b[39m=\u001b[39m\u001b[39m2\u001b[39m,\n\u001b[0;32m   2506\u001b[0m )\n\u001b[1;32m-> 2507\u001b[0m \u001b[39mreturn\u001b[39;00m \u001b[39mself\u001b[39;49m\u001b[39m.\u001b[39;49mfit(\n\u001b[0;32m   2508\u001b[0m     generator,\n\u001b[0;32m   2509\u001b[0m     steps_per_epoch\u001b[39m=\u001b[39;49msteps_per_epoch,\n\u001b[0;32m   2510\u001b[0m     epochs\u001b[39m=\u001b[39;49mepochs,\n\u001b[0;32m   2511\u001b[0m     verbose\u001b[39m=\u001b[39;49mverbose,\n\u001b[0;32m   2512\u001b[0m     callbacks\u001b[39m=\u001b[39;49mcallbacks,\n\u001b[0;32m   2513\u001b[0m     validation_data\u001b[39m=\u001b[39;49mvalidation_data,\n\u001b[0;32m   2514\u001b[0m     validation_steps\u001b[39m=\u001b[39;49mvalidation_steps,\n\u001b[0;32m   2515\u001b[0m     validation_freq\u001b[39m=\u001b[39;49mvalidation_freq,\n\u001b[0;32m   2516\u001b[0m     class_weight\u001b[39m=\u001b[39;49mclass_weight,\n\u001b[0;32m   2517\u001b[0m     max_queue_size\u001b[39m=\u001b[39;49mmax_queue_size,\n\u001b[0;32m   2518\u001b[0m     workers\u001b[39m=\u001b[39;49mworkers,\n\u001b[0;32m   2519\u001b[0m     use_multiprocessing\u001b[39m=\u001b[39;49muse_multiprocessing,\n\u001b[0;32m   2520\u001b[0m     shuffle\u001b[39m=\u001b[39;49mshuffle,\n\u001b[0;32m   2521\u001b[0m     initial_epoch\u001b[39m=\u001b[39;49minitial_epoch,\n\u001b[0;32m   2522\u001b[0m )\n",
      "File \u001b[1;32mc:\\Users\\Sistem Cerdas Two\\anaconda3\\lib\\site-packages\\keras\\utils\\traceback_utils.py:70\u001b[0m, in \u001b[0;36mfilter_traceback.<locals>.error_handler\u001b[1;34m(*args, **kwargs)\u001b[0m\n\u001b[0;32m     67\u001b[0m     filtered_tb \u001b[39m=\u001b[39m _process_traceback_frames(e\u001b[39m.\u001b[39m__traceback__)\n\u001b[0;32m     68\u001b[0m     \u001b[39m# To get the full stack trace, call:\u001b[39;00m\n\u001b[0;32m     69\u001b[0m     \u001b[39m# `tf.debugging.disable_traceback_filtering()`\u001b[39;00m\n\u001b[1;32m---> 70\u001b[0m     \u001b[39mraise\u001b[39;00m e\u001b[39m.\u001b[39mwith_traceback(filtered_tb) \u001b[39mfrom\u001b[39;00m \u001b[39mNone\u001b[39m\n\u001b[0;32m     71\u001b[0m \u001b[39mfinally\u001b[39;00m:\n\u001b[0;32m     72\u001b[0m     \u001b[39mdel\u001b[39;00m filtered_tb\n",
      "File \u001b[1;32m~\\AppData\\Roaming\\Python\\Python39\\site-packages\\tensorflow\\python\\eager\\execute.py:54\u001b[0m, in \u001b[0;36mquick_execute\u001b[1;34m(op_name, num_outputs, inputs, attrs, ctx, name)\u001b[0m\n\u001b[0;32m     52\u001b[0m \u001b[39mtry\u001b[39;00m:\n\u001b[0;32m     53\u001b[0m   ctx\u001b[39m.\u001b[39mensure_initialized()\n\u001b[1;32m---> 54\u001b[0m   tensors \u001b[39m=\u001b[39m pywrap_tfe\u001b[39m.\u001b[39mTFE_Py_Execute(ctx\u001b[39m.\u001b[39m_handle, device_name, op_name,\n\u001b[0;32m     55\u001b[0m                                       inputs, attrs, num_outputs)\n\u001b[0;32m     56\u001b[0m \u001b[39mexcept\u001b[39;00m core\u001b[39m.\u001b[39m_NotOkStatusException \u001b[39mas\u001b[39;00m e:\n\u001b[0;32m     57\u001b[0m   \u001b[39mif\u001b[39;00m name \u001b[39mis\u001b[39;00m \u001b[39mnot\u001b[39;00m \u001b[39mNone\u001b[39;00m:\n",
      "\u001b[1;31mInvalidArgumentError\u001b[0m: Graph execution error:\n\nDetected at node 'model/Attention1/multiply/mul' defined at (most recent call last):\n    File \"c:\\Users\\Sistem Cerdas Two\\anaconda3\\lib\\runpy.py\", line 197, in _run_module_as_main\n      return _run_code(code, main_globals, None,\n    File \"c:\\Users\\Sistem Cerdas Two\\anaconda3\\lib\\runpy.py\", line 87, in _run_code\n      exec(code, run_globals)\n    File \"c:\\Users\\Sistem Cerdas Two\\anaconda3\\lib\\site-packages\\ipykernel_launcher.py\", line 16, in <module>\n      app.launch_new_instance()\n    File \"c:\\Users\\Sistem Cerdas Two\\anaconda3\\lib\\site-packages\\traitlets\\config\\application.py\", line 846, in launch_instance\n      app.start()\n    File \"c:\\Users\\Sistem Cerdas Two\\anaconda3\\lib\\site-packages\\ipykernel\\kernelapp.py\", line 677, in start\n      self.io_loop.start()\n    File \"c:\\Users\\Sistem Cerdas Two\\anaconda3\\lib\\site-packages\\tornado\\platform\\asyncio.py\", line 199, in start\n      self.asyncio_loop.run_forever()\n    File \"c:\\Users\\Sistem Cerdas Two\\anaconda3\\lib\\asyncio\\base_events.py\", line 601, in run_forever\n      self._run_once()\n    File \"c:\\Users\\Sistem Cerdas Two\\anaconda3\\lib\\asyncio\\base_events.py\", line 1905, in _run_once\n      handle._run()\n    File \"c:\\Users\\Sistem Cerdas Two\\anaconda3\\lib\\asyncio\\events.py\", line 80, in _run\n      self._context.run(self._callback, *self._args)\n    File \"c:\\Users\\Sistem Cerdas Two\\anaconda3\\lib\\site-packages\\ipykernel\\kernelbase.py\", line 471, in dispatch_queue\n      await self.process_one()\n    File \"c:\\Users\\Sistem Cerdas Two\\anaconda3\\lib\\site-packages\\ipykernel\\kernelbase.py\", line 460, in process_one\n      await dispatch(*args)\n    File \"c:\\Users\\Sistem Cerdas Two\\anaconda3\\lib\\site-packages\\ipykernel\\kernelbase.py\", line 367, in dispatch_shell\n      await result\n    File \"c:\\Users\\Sistem Cerdas Two\\anaconda3\\lib\\site-packages\\ipykernel\\kernelbase.py\", line 662, in execute_request\n      reply_content = await reply_content\n    File \"c:\\Users\\Sistem Cerdas Two\\anaconda3\\lib\\site-packages\\ipykernel\\ipkernel.py\", line 360, in do_execute\n      res = shell.run_cell(code, store_history=store_history, silent=silent)\n    File \"c:\\Users\\Sistem Cerdas Two\\anaconda3\\lib\\site-packages\\ipykernel\\zmqshell.py\", line 532, in run_cell\n      return super().run_cell(*args, **kwargs)\n    File \"c:\\Users\\Sistem Cerdas Two\\anaconda3\\lib\\site-packages\\IPython\\core\\interactiveshell.py\", line 2863, in run_cell\n      result = self._run_cell(\n    File \"c:\\Users\\Sistem Cerdas Two\\anaconda3\\lib\\site-packages\\IPython\\core\\interactiveshell.py\", line 2909, in _run_cell\n      return runner(coro)\n    File \"c:\\Users\\Sistem Cerdas Two\\anaconda3\\lib\\site-packages\\IPython\\core\\async_helpers.py\", line 129, in _pseudo_sync_runner\n      coro.send(None)\n    File \"c:\\Users\\Sistem Cerdas Two\\anaconda3\\lib\\site-packages\\IPython\\core\\interactiveshell.py\", line 3106, in run_cell_async\n      has_raised = await self.run_ast_nodes(code_ast.body, cell_name,\n    File \"c:\\Users\\Sistem Cerdas Two\\anaconda3\\lib\\site-packages\\IPython\\core\\interactiveshell.py\", line 3309, in run_ast_nodes\n      if await self.run_code(code, result, async_=asy):\n    File \"c:\\Users\\Sistem Cerdas Two\\anaconda3\\lib\\site-packages\\IPython\\core\\interactiveshell.py\", line 3369, in run_code\n      exec(code_obj, self.user_global_ns, self.user_ns)\n    File \"C:\\Users\\Sistem Cerdas Two\\AppData\\Local\\Temp\\ipykernel_7012\\974670986.py\", line 6, in <cell line: 6>\n      results = model.fit(\n    File \"c:\\Users\\Sistem Cerdas Two\\anaconda3\\lib\\site-packages\\keras\\utils\\traceback_utils.py\", line 65, in error_handler\n      return fn(*args, **kwargs)\n    File \"c:\\Users\\Sistem Cerdas Two\\anaconda3\\lib\\site-packages\\keras\\engine\\training.py\", line 1564, in fit\n      tmp_logs = self.train_function(iterator)\n    File \"c:\\Users\\Sistem Cerdas Two\\anaconda3\\lib\\site-packages\\keras\\engine\\training.py\", line 1160, in train_function\n      return step_function(self, iterator)\n    File \"c:\\Users\\Sistem Cerdas Two\\anaconda3\\lib\\site-packages\\keras\\engine\\training.py\", line 1146, in step_function\n      outputs = model.distribute_strategy.run(run_step, args=(data,))\n    File \"c:\\Users\\Sistem Cerdas Two\\anaconda3\\lib\\site-packages\\keras\\engine\\training.py\", line 1135, in run_step\n      outputs = model.train_step(data)\n    File \"c:\\Users\\Sistem Cerdas Two\\anaconda3\\lib\\site-packages\\keras\\engine\\training.py\", line 993, in train_step\n      y_pred = self(x, training=True)\n    File \"c:\\Users\\Sistem Cerdas Two\\anaconda3\\lib\\site-packages\\keras\\utils\\traceback_utils.py\", line 65, in error_handler\n      return fn(*args, **kwargs)\n    File \"c:\\Users\\Sistem Cerdas Two\\anaconda3\\lib\\site-packages\\keras\\engine\\training.py\", line 557, in __call__\n      return super().__call__(*args, **kwargs)\n    File \"c:\\Users\\Sistem Cerdas Two\\anaconda3\\lib\\site-packages\\keras\\utils\\traceback_utils.py\", line 65, in error_handler\n      return fn(*args, **kwargs)\n    File \"c:\\Users\\Sistem Cerdas Two\\anaconda3\\lib\\site-packages\\keras\\engine\\base_layer.py\", line 1097, in __call__\n      outputs = call_fn(inputs, *args, **kwargs)\n    File \"c:\\Users\\Sistem Cerdas Two\\anaconda3\\lib\\site-packages\\keras\\utils\\traceback_utils.py\", line 96, in error_handler\n      return fn(*args, **kwargs)\n    File \"c:\\Users\\Sistem Cerdas Two\\anaconda3\\lib\\site-packages\\keras\\engine\\functional.py\", line 510, in call\n      return self._run_internal_graph(inputs, training=training, mask=mask)\n    File \"c:\\Users\\Sistem Cerdas Two\\anaconda3\\lib\\site-packages\\keras\\engine\\functional.py\", line 667, in _run_internal_graph\n      outputs = node.layer(*args, **kwargs)\n    File \"c:\\Users\\Sistem Cerdas Two\\anaconda3\\lib\\site-packages\\keras\\utils\\traceback_utils.py\", line 65, in error_handler\n      return fn(*args, **kwargs)\n    File \"c:\\Users\\Sistem Cerdas Two\\anaconda3\\lib\\site-packages\\keras\\engine\\base_layer.py\", line 1097, in __call__\n      outputs = call_fn(inputs, *args, **kwargs)\n    File \"c:\\Users\\Sistem Cerdas Two\\anaconda3\\lib\\site-packages\\keras\\utils\\traceback_utils.py\", line 96, in error_handler\n      return fn(*args, **kwargs)\n    File \"C:\\Users\\Sistem Cerdas Two\\AppData\\Local\\Temp\\ipykernel_7012\\554259654.py\", line 23, in call\n      f = Multiply()([x, skip_X])\n    File \"c:\\Users\\Sistem Cerdas Two\\anaconda3\\lib\\site-packages\\keras\\utils\\traceback_utils.py\", line 65, in error_handler\n      return fn(*args, **kwargs)\n    File \"c:\\Users\\Sistem Cerdas Two\\anaconda3\\lib\\site-packages\\keras\\engine\\base_layer.py\", line 1097, in __call__\n      outputs = call_fn(inputs, *args, **kwargs)\n    File \"c:\\Users\\Sistem Cerdas Two\\anaconda3\\lib\\site-packages\\keras\\utils\\traceback_utils.py\", line 96, in error_handler\n      return fn(*args, **kwargs)\n    File \"c:\\Users\\Sistem Cerdas Two\\anaconda3\\lib\\site-packages\\keras\\layers\\merging\\base_merge.py\", line 196, in call\n      return self._merge_function(inputs)\n    File \"c:\\Users\\Sistem Cerdas Two\\anaconda3\\lib\\site-packages\\keras\\layers\\merging\\multiply.py\", line 50, in _merge_function\n      output = output * inputs[i]\nNode: 'model/Attention1/multiply/mul'\nDetected at node 'model/Attention1/multiply/mul' defined at (most recent call last):\n    File \"c:\\Users\\Sistem Cerdas Two\\anaconda3\\lib\\runpy.py\", line 197, in _run_module_as_main\n      return _run_code(code, main_globals, None,\n    File \"c:\\Users\\Sistem Cerdas Two\\anaconda3\\lib\\runpy.py\", line 87, in _run_code\n      exec(code, run_globals)\n    File \"c:\\Users\\Sistem Cerdas Two\\anaconda3\\lib\\site-packages\\ipykernel_launcher.py\", line 16, in <module>\n      app.launch_new_instance()\n    File \"c:\\Users\\Sistem Cerdas Two\\anaconda3\\lib\\site-packages\\traitlets\\config\\application.py\", line 846, in launch_instance\n      app.start()\n    File \"c:\\Users\\Sistem Cerdas Two\\anaconda3\\lib\\site-packages\\ipykernel\\kernelapp.py\", line 677, in start\n      self.io_loop.start()\n    File \"c:\\Users\\Sistem Cerdas Two\\anaconda3\\lib\\site-packages\\tornado\\platform\\asyncio.py\", line 199, in start\n      self.asyncio_loop.run_forever()\n    File \"c:\\Users\\Sistem Cerdas Two\\anaconda3\\lib\\asyncio\\base_events.py\", line 601, in run_forever\n      self._run_once()\n    File \"c:\\Users\\Sistem Cerdas Two\\anaconda3\\lib\\asyncio\\base_events.py\", line 1905, in _run_once\n      handle._run()\n    File \"c:\\Users\\Sistem Cerdas Two\\anaconda3\\lib\\asyncio\\events.py\", line 80, in _run\n      self._context.run(self._callback, *self._args)\n    File \"c:\\Users\\Sistem Cerdas Two\\anaconda3\\lib\\site-packages\\ipykernel\\kernelbase.py\", line 471, in dispatch_queue\n      await self.process_one()\n    File \"c:\\Users\\Sistem Cerdas Two\\anaconda3\\lib\\site-packages\\ipykernel\\kernelbase.py\", line 460, in process_one\n      await dispatch(*args)\n    File \"c:\\Users\\Sistem Cerdas Two\\anaconda3\\lib\\site-packages\\ipykernel\\kernelbase.py\", line 367, in dispatch_shell\n      await result\n    File \"c:\\Users\\Sistem Cerdas Two\\anaconda3\\lib\\site-packages\\ipykernel\\kernelbase.py\", line 662, in execute_request\n      reply_content = await reply_content\n    File \"c:\\Users\\Sistem Cerdas Two\\anaconda3\\lib\\site-packages\\ipykernel\\ipkernel.py\", line 360, in do_execute\n      res = shell.run_cell(code, store_history=store_history, silent=silent)\n    File \"c:\\Users\\Sistem Cerdas Two\\anaconda3\\lib\\site-packages\\ipykernel\\zmqshell.py\", line 532, in run_cell\n      return super().run_cell(*args, **kwargs)\n    File \"c:\\Users\\Sistem Cerdas Two\\anaconda3\\lib\\site-packages\\IPython\\core\\interactiveshell.py\", line 2863, in run_cell\n      result = self._run_cell(\n    File \"c:\\Users\\Sistem Cerdas Two\\anaconda3\\lib\\site-packages\\IPython\\core\\interactiveshell.py\", line 2909, in _run_cell\n      return runner(coro)\n    File \"c:\\Users\\Sistem Cerdas Two\\anaconda3\\lib\\site-packages\\IPython\\core\\async_helpers.py\", line 129, in _pseudo_sync_runner\n      coro.send(None)\n    File \"c:\\Users\\Sistem Cerdas Two\\anaconda3\\lib\\site-packages\\IPython\\core\\interactiveshell.py\", line 3106, in run_cell_async\n      has_raised = await self.run_ast_nodes(code_ast.body, cell_name,\n    File \"c:\\Users\\Sistem Cerdas Two\\anaconda3\\lib\\site-packages\\IPython\\core\\interactiveshell.py\", line 3309, in run_ast_nodes\n      if await self.run_code(code, result, async_=asy):\n    File \"c:\\Users\\Sistem Cerdas Two\\anaconda3\\lib\\site-packages\\IPython\\core\\interactiveshell.py\", line 3369, in run_code\n      exec(code_obj, self.user_global_ns, self.user_ns)\n    File \"C:\\Users\\Sistem Cerdas Two\\AppData\\Local\\Temp\\ipykernel_7012\\974670986.py\", line 6, in <cell line: 6>\n      results = model.fit(\n    File \"c:\\Users\\Sistem Cerdas Two\\anaconda3\\lib\\site-packages\\keras\\utils\\traceback_utils.py\", line 65, in error_handler\n      return fn(*args, **kwargs)\n    File \"c:\\Users\\Sistem Cerdas Two\\anaconda3\\lib\\site-packages\\keras\\engine\\training.py\", line 1564, in fit\n      tmp_logs = self.train_function(iterator)\n    File \"c:\\Users\\Sistem Cerdas Two\\anaconda3\\lib\\site-packages\\keras\\engine\\training.py\", line 1160, in train_function\n      return step_function(self, iterator)\n    File \"c:\\Users\\Sistem Cerdas Two\\anaconda3\\lib\\site-packages\\keras\\engine\\training.py\", line 1146, in step_function\n      outputs = model.distribute_strategy.run(run_step, args=(data,))\n    File \"c:\\Users\\Sistem Cerdas Two\\anaconda3\\lib\\site-packages\\keras\\engine\\training.py\", line 1135, in run_step\n      outputs = model.train_step(data)\n    File \"c:\\Users\\Sistem Cerdas Two\\anaconda3\\lib\\site-packages\\keras\\engine\\training.py\", line 993, in train_step\n      y_pred = self(x, training=True)\n    File \"c:\\Users\\Sistem Cerdas Two\\anaconda3\\lib\\site-packages\\keras\\utils\\traceback_utils.py\", line 65, in error_handler\n      return fn(*args, **kwargs)\n    File \"c:\\Users\\Sistem Cerdas Two\\anaconda3\\lib\\site-packages\\keras\\engine\\training.py\", line 557, in __call__\n      return super().__call__(*args, **kwargs)\n    File \"c:\\Users\\Sistem Cerdas Two\\anaconda3\\lib\\site-packages\\keras\\utils\\traceback_utils.py\", line 65, in error_handler\n      return fn(*args, **kwargs)\n    File \"c:\\Users\\Sistem Cerdas Two\\anaconda3\\lib\\site-packages\\keras\\engine\\base_layer.py\", line 1097, in __call__\n      outputs = call_fn(inputs, *args, **kwargs)\n    File \"c:\\Users\\Sistem Cerdas Two\\anaconda3\\lib\\site-packages\\keras\\utils\\traceback_utils.py\", line 96, in error_handler\n      return fn(*args, **kwargs)\n    File \"c:\\Users\\Sistem Cerdas Two\\anaconda3\\lib\\site-packages\\keras\\engine\\functional.py\", line 510, in call\n      return self._run_internal_graph(inputs, training=training, mask=mask)\n    File \"c:\\Users\\Sistem Cerdas Two\\anaconda3\\lib\\site-packages\\keras\\engine\\functional.py\", line 667, in _run_internal_graph\n      outputs = node.layer(*args, **kwargs)\n    File \"c:\\Users\\Sistem Cerdas Two\\anaconda3\\lib\\site-packages\\keras\\utils\\traceback_utils.py\", line 65, in error_handler\n      return fn(*args, **kwargs)\n    File \"c:\\Users\\Sistem Cerdas Two\\anaconda3\\lib\\site-packages\\keras\\engine\\base_layer.py\", line 1097, in __call__\n      outputs = call_fn(inputs, *args, **kwargs)\n    File \"c:\\Users\\Sistem Cerdas Two\\anaconda3\\lib\\site-packages\\keras\\utils\\traceback_utils.py\", line 96, in error_handler\n      return fn(*args, **kwargs)\n    File \"C:\\Users\\Sistem Cerdas Two\\AppData\\Local\\Temp\\ipykernel_7012\\554259654.py\", line 23, in call\n      f = Multiply()([x, skip_X])\n    File \"c:\\Users\\Sistem Cerdas Two\\anaconda3\\lib\\site-packages\\keras\\utils\\traceback_utils.py\", line 65, in error_handler\n      return fn(*args, **kwargs)\n    File \"c:\\Users\\Sistem Cerdas Two\\anaconda3\\lib\\site-packages\\keras\\engine\\base_layer.py\", line 1097, in __call__\n      outputs = call_fn(inputs, *args, **kwargs)\n    File \"c:\\Users\\Sistem Cerdas Two\\anaconda3\\lib\\site-packages\\keras\\utils\\traceback_utils.py\", line 96, in error_handler\n      return fn(*args, **kwargs)\n    File \"c:\\Users\\Sistem Cerdas Two\\anaconda3\\lib\\site-packages\\keras\\layers\\merging\\base_merge.py\", line 196, in call\n      return self._merge_function(inputs)\n    File \"c:\\Users\\Sistem Cerdas Two\\anaconda3\\lib\\site-packages\\keras\\layers\\merging\\multiply.py\", line 50, in _merge_function\n      output = output * inputs[i]\nNode: 'model/Attention1/multiply/mul'\n2 root error(s) found.\n  (0) INVALID_ARGUMENT:  required broadcastable shapes\n\t [[{{node model/Attention1/multiply/mul}}]]\n\t [[confusion_matrix/assert_non_negative/assert_less_equal/Assert/AssertGuard/pivot_f/_3/_17]]\n  (1) INVALID_ARGUMENT:  required broadcastable shapes\n\t [[{{node model/Attention1/multiply/mul}}]]\n0 successful operations.\n0 derived errors ignored. [Op:__inference_train_function_9806]"
     ]
    }
   ],
   "source": [
    "# Config Training\n",
    "BATCH_SIZE = 8\n",
    "SPE = 24925 //BATCH_SIZE\n",
    "\n",
    "# Training\n",
    "results = model.fit_generator(\n",
    "    train,\n",
    "    validation_data=validation,\n",
    "    epochs=20, # 15 will be enough for a good Model for better model go with 20+\n",
    "    steps_per_epoch=SPE,\n",
    "    callbacks=cb\n",
    ")"
   ]
  },
  {
   "cell_type": "code",
   "execution_count": 30,
   "metadata": {},
   "outputs": [
    {
     "name": "stdout",
     "output_type": "stream",
     "text": [
      "Model: \"model\"\n",
      "__________________________________________________________________________________________________\n",
      " Layer (type)                   Output Shape         Param #     Connected to                     \n",
      "==================================================================================================\n",
      " input_1 (InputLayer)           [(None, 128, 128, 3  0           []                               \n",
      "                                )]                                                                \n",
      "                                                                                                  \n",
      " Encoder1 (EncoderBlock)        ((None, 64, 64, 32)  10144       ['input_1[0][0]']                \n",
      "                                , (None, 128, 128,                                                \n",
      "                                32))                                                              \n",
      "                                                                                                  \n",
      " Encoder2 (EncoderBlock)        ((None, 32, 32, 64)  55424       ['Encoder1[0][0]']               \n",
      "                                , (None, 64, 64, 64                                               \n",
      "                                ))                                                                \n",
      "                                                                                                  \n",
      " Encoder3 (EncoderBlock)        ((None, 16, 16, 128  221440      ['Encoder2[0][0]']               \n",
      "                                ),                                                                \n",
      "                                 (None, 32, 32, 128                                               \n",
      "                                ))                                                                \n",
      "                                                                                                  \n",
      " Encoder4 (EncoderBlock)        ((None, 8, 8, 256),  885248      ['Encoder3[0][0]']               \n",
      "                                 (None, 16, 16, 256                                               \n",
      "                                ))                                                                \n",
      "                                                                                                  \n",
      " Encoding (EncoderBlock)        (None, 8, 8, 512)    3539968     ['Encoder4[0][0]']               \n",
      "                                                                                                  \n",
      " Attention1 (AttentionGate)     (None, 16, 16, 256)  1771265     ['Encoding[0][0]',               \n",
      "                                                                  'Encoder4[0][1]']               \n",
      "                                                                                                  \n",
      " Decoder1 (DecoderBlock)        (None, 16, 16, 256)  2359808     ['Encoding[0][0]',               \n",
      "                                                                  'Attention1[0][0]']             \n",
      "                                                                                                  \n",
      " Attention2 (AttentionGate)     (None, 32, 32, 128)  443265      ['Decoder1[0][0]',               \n",
      "                                                                  'Encoder3[0][1]']               \n",
      "                                                                                                  \n",
      " Decoder2 (DecoderBlock)        (None, 32, 32, 128)  590080      ['Decoder1[0][0]',               \n",
      "                                                                  'Attention2[0][0]']             \n",
      "                                                                                                  \n",
      " Attention3 (AttentionGate)     (None, 64, 64, 64)   111041      ['Decoder2[0][0]',               \n",
      "                                                                  'Encoder2[0][1]']               \n",
      "                                                                                                  \n",
      " Decoder3 (DecoderBlock)        (None, 64, 64, 64)   147584      ['Decoder2[0][0]',               \n",
      "                                                                  'Attention3[0][0]']             \n",
      "                                                                                                  \n",
      " Attention4 (AttentionGate)     (None, 128, 128, 32  27873       ['Decoder3[0][0]',               \n",
      "                                )                                 'Encoder1[0][1]']               \n",
      "                                                                                                  \n",
      " Decoder4 (DecoderBlock)        (None, 128, 128, 32  36928       ['Decoder3[0][0]',               \n",
      "                                )                                 'Attention4[0][0]']             \n",
      "                                                                                                  \n",
      " conv2d_30 (Conv2D)             (None, 128, 128, 1)  33          ['Decoder4[0][0]']               \n",
      "                                                                                                  \n",
      "==================================================================================================\n",
      "Total params: 10,200,101\n",
      "Trainable params: 10,199,141\n",
      "Non-trainable params: 960\n",
      "__________________________________________________________________________________________________\n"
     ]
    }
   ],
   "source": [
    "model.summary()"
   ]
  }
 ],
 "metadata": {
  "kernelspec": {
   "display_name": "base",
   "language": "python",
   "name": "python3"
  },
  "language_info": {
   "codemirror_mode": {
    "name": "ipython",
    "version": 3
   },
   "file_extension": ".py",
   "mimetype": "text/x-python",
   "name": "python",
   "nbconvert_exporter": "python",
   "pygments_lexer": "ipython3",
   "version": "3.9.12"
  },
  "orig_nbformat": 4
 },
 "nbformat": 4,
 "nbformat_minor": 2
}
